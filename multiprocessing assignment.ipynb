{
 "cells": [
  {
   "cell_type": "markdown",
   "id": "ff816ea9-a6f0-42f1-9b3d-1b31442b14c2",
   "metadata": {},
   "source": [
    "Multiprocessing in python involves running multipe processes simultaneously to improve performance. it's useful for tasks that can be parallelized, as it takes advantages of multiple CPU cores. this can be lead to faster execution times and enhanced overall efficiency in certain scenarios. "
   ]
  },
  {
   "cell_type": "markdown",
   "id": "447884c4-6399-4ecc-9cc5-cbb6cbb16d96",
   "metadata": {},
   "source": [
    "In python, multiprocessing involves separate processes with their own memory space, while multithreading involves multiple threads sharing the same memory space within a single process. \n",
    "multiprocessing is more suited for CPU-bound tasks, as it can utilize multiple cores effectively, whereas multithreading is often used for I/O-bound tasks due to python's global interpreter lock (GIL) limiting true parallelism in threads. "
   ]
  },
  {
   "cell_type": "code",
   "execution_count": 6,
   "id": "79e69411-b53f-40fa-85b4-e386cbcd299e",
   "metadata": {},
   "outputs": [
    {
     "name": "stdout",
     "output_type": "stream",
     "text": [
      "hello,john!\n",
      "Main process finished.\n"
     ]
    }
   ],
   "source": [
    "import multiprocessing\n",
    "def my_function(name):\n",
    "    print(f\"hello,{name}!\")\n",
    "    \n",
    "if __name__ == \"__main__\":\n",
    "    process = multiprocessing.Process(target = my_function, args = (\"john\",)) \n",
    "    process.start()\n",
    "    process.join()\n",
    "    print(\"Main process finished.\")"
   ]
  },
  {
   "cell_type": "markdown",
   "id": "078bc2f7-b594-4b5e-8e1a-2a6dad0be363",
   "metadata": {},
   "source": [
    "A multiprocessing pool in python, often created using multiprocessing.Pool, is a mechanism for parallelizing the execution of a function across multiple input values. it distributes the workload among a specified number of worker processes, allowing them to operate concurrently. \n",
    "\n",
    "Pools are particularly useful for parallelizing tasks that can be broken down into independent subtasks, such as processing elements in a list concurrently. this can significantly speed up the execution of tasks by leveraging multiple CPU cores, making it efficient for parallelizable computations."
   ]
  },
  {
   "cell_type": "code",
   "execution_count": 48,
   "id": "fb65569b-39cc-48fb-a6dc-c38cd364c443",
   "metadata": {},
   "outputs": [
    {
     "name": "stdout",
     "output_type": "stream",
     "text": [
      "Process 0: 0\n",
      "All process finished.\n",
      "Process 1: 1\n",
      "All process finished.\n",
      "Process 2: 2\n",
      "All process finished.\n",
      "Process 3: 3\n",
      "All process finished.\n"
     ]
    }
   ],
   "source": [
    "import multiprocessing\n",
    "def print_number(number):\n",
    "    print(f\"Process {number}: {number}\")\n",
    "if __name__ == \"__main__\":\n",
    "    processes = []\n",
    "    for i in range(4):\n",
    "        process = multiprocessing.Process(target=print_number, args=(i,))\n",
    "        processes.append(process)\n",
    "        process.start()\n",
    "        for process in processes:\n",
    "            process.join()\n",
    "        print(\"All process finished.\")    "
   ]
  },
  {
   "cell_type": "code",
   "execution_count": null,
   "id": "637ce66a-0d5e-46ac-ad5e-ac388e5c37b3",
   "metadata": {},
   "outputs": [],
   "source": []
  }
 ],
 "metadata": {
  "kernelspec": {
   "display_name": "Python 3 (ipykernel)",
   "language": "python",
   "name": "python3"
  },
  "language_info": {
   "codemirror_mode": {
    "name": "ipython",
    "version": 3
   },
   "file_extension": ".py",
   "mimetype": "text/x-python",
   "name": "python",
   "nbconvert_exporter": "python",
   "pygments_lexer": "ipython3",
   "version": "3.10.8"
  }
 },
 "nbformat": 4,
 "nbformat_minor": 5
}
